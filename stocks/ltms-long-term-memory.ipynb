{
 "cells": [
  {
   "cell_type": "markdown",
   "metadata": {},
   "source": [
    "## Importing libraries"
   ]
  },
  {
   "cell_type": "code",
   "execution_count": 1,
   "metadata": {},
   "outputs": [
    {
     "name": "stderr",
     "output_type": "stream",
     "text": [
      "2024-10-30 15:43:23.761795: I tensorflow/stream_executor/cuda/cuda_gpu_executor.cc:936] successful NUMA node read from SysFS had negative value (-1), but there must be at least one NUMA node, so returning NUMA node zero\n",
      "2024-10-30 15:43:23.780376: I tensorflow/stream_executor/cuda/cuda_gpu_executor.cc:936] successful NUMA node read from SysFS had negative value (-1), but there must be at least one NUMA node, so returning NUMA node zero\n",
      "2024-10-30 15:43:23.781687: I tensorflow/stream_executor/cuda/cuda_gpu_executor.cc:936] successful NUMA node read from SysFS had negative value (-1), but there must be at least one NUMA node, so returning NUMA node zero\n"
     ]
    }
   ],
   "source": [
    "import pandas as pd\n",
    "import numpy as np\n",
    "import matplotlib.pyplot as plt\n",
    "from sklearn.preprocessing import MinMaxScaler\n",
    "from keras.layers import LSTM, Dense\n",
    "from sklearn.model_selection import TimeSeriesSplit\n",
    "from sklearn.preprocessing import MinMaxScaler\n",
    "from keras.models import Sequential\n",
    "from keras.layers import Dense\n",
    "from keras.layers import LSTM\n",
    "from keras.utils.vis_utils import plot_model\n",
    "\n",
    "import tensorflow as tf\n",
    "gpu_devices = tf.config.experimental.list_physical_devices('GPU')\n",
    "for device in gpu_devices:\n",
    "    tf.config.experimental.set_memory_growth(device, True)"
   ]
  },
  {
   "cell_type": "markdown",
   "metadata": {},
   "source": [
    "## Reading Stock Market Data\n",
    "Data comes from Microsoft or TATA Consulting firm. Data includes\n",
    "- Open value\n",
    "- Close value\n",
    "- Highest daily value\n",
    "- Lowest daily value"
   ]
  },
  {
   "cell_type": "code",
   "execution_count": 2,
   "metadata": {},
   "outputs": [
    {
     "data": {
      "text/html": [
       "<div>\n",
       "<style scoped>\n",
       "    .dataframe tbody tr th:only-of-type {\n",
       "        vertical-align: middle;\n",
       "    }\n",
       "\n",
       "    .dataframe tbody tr th {\n",
       "        vertical-align: top;\n",
       "    }\n",
       "\n",
       "    .dataframe thead th {\n",
       "        text-align: right;\n",
       "    }\n",
       "</style>\n",
       "<table border=\"1\" class=\"dataframe\">\n",
       "  <thead>\n",
       "    <tr style=\"text-align: right;\">\n",
       "      <th></th>\n",
       "      <th>High</th>\n",
       "      <th>Low</th>\n",
       "      <th>Open</th>\n",
       "      <th>Close</th>\n",
       "      <th>Volume</th>\n",
       "      <th>Adj Close</th>\n",
       "    </tr>\n",
       "    <tr>\n",
       "      <th>Date</th>\n",
       "      <th></th>\n",
       "      <th></th>\n",
       "      <th></th>\n",
       "      <th></th>\n",
       "      <th></th>\n",
       "      <th></th>\n",
       "    </tr>\n",
       "  </thead>\n",
       "  <tbody>\n",
       "    <tr>\n",
       "      <th>2015-01-12</th>\n",
       "      <td>47.540001</td>\n",
       "      <td>46.360001</td>\n",
       "      <td>47.419998</td>\n",
       "      <td>46.599998</td>\n",
       "      <td>23651900.0</td>\n",
       "      <td>40.786396</td>\n",
       "    </tr>\n",
       "    <tr>\n",
       "      <th>2015-01-13</th>\n",
       "      <td>47.910000</td>\n",
       "      <td>46.060001</td>\n",
       "      <td>46.970001</td>\n",
       "      <td>46.360001</td>\n",
       "      <td>35270600.0</td>\n",
       "      <td>40.576340</td>\n",
       "    </tr>\n",
       "    <tr>\n",
       "      <th>2015-01-14</th>\n",
       "      <td>46.240002</td>\n",
       "      <td>45.619999</td>\n",
       "      <td>45.959999</td>\n",
       "      <td>45.959999</td>\n",
       "      <td>29719600.0</td>\n",
       "      <td>40.226257</td>\n",
       "    </tr>\n",
       "    <tr>\n",
       "      <th>2015-01-15</th>\n",
       "      <td>46.380001</td>\n",
       "      <td>45.410000</td>\n",
       "      <td>46.220001</td>\n",
       "      <td>45.480000</td>\n",
       "      <td>32750800.0</td>\n",
       "      <td>39.806129</td>\n",
       "    </tr>\n",
       "    <tr>\n",
       "      <th>2015-01-16</th>\n",
       "      <td>46.279999</td>\n",
       "      <td>45.169998</td>\n",
       "      <td>45.310001</td>\n",
       "      <td>46.240002</td>\n",
       "      <td>35695300.0</td>\n",
       "      <td>40.471313</td>\n",
       "    </tr>\n",
       "  </tbody>\n",
       "</table>\n",
       "</div>"
      ],
      "text/plain": [
       "                 High        Low       Open      Close      Volume  Adj Close\n",
       "Date                                                                         \n",
       "2015-01-12  47.540001  46.360001  47.419998  46.599998  23651900.0  40.786396\n",
       "2015-01-13  47.910000  46.060001  46.970001  46.360001  35270600.0  40.576340\n",
       "2015-01-14  46.240002  45.619999  45.959999  45.959999  29719600.0  40.226257\n",
       "2015-01-15  46.380001  45.410000  46.220001  45.480000  32750800.0  39.806129\n",
       "2015-01-16  46.279999  45.169998  45.310001  46.240002  35695300.0  40.471313"
      ]
     },
     "execution_count": 2,
     "metadata": {},
     "output_type": "execute_result"
    }
   ],
   "source": [
    "data_folder = './../data/stocks/'\n",
    "stock = 'Microsoft'\n",
    "\n",
    "if stock == 'Microsoft':\n",
    "  dataset_file = data_folder + 'microsoft_stocks.csv'\n",
    "  close_column ='Adj Close'                   # Close column name\n",
    "  volume_column = 'Volume'                    # Volumen column name\n",
    "else:\n",
    "  dataset_file = data_folder + 'NSE_TATAGLOBAL11.csv'\n",
    "  close_column ='Close'                       # Close column name\n",
    "  volume_column = 'Total Trade Quantity'      # Volumen column name\n",
    "\n",
    "# Read dataset and sort date ascending\n",
    "df=pd.read_csv(dataset_file, na_values=['null'], index_col='Date', parse_dates=True)\n",
    "df = df.sort_index(ascending=True, axis=0)\n",
    "df.head()"
   ]
  },
  {
   "cell_type": "markdown",
   "metadata": {},
   "source": [
    "## Verify null or empty values"
   ]
  },
  {
   "cell_type": "code",
   "execution_count": 3,
   "metadata": {},
   "outputs": [
    {
     "name": "stdout",
     "output_type": "stream",
     "text": [
      "Null values?:  False\n"
     ]
    }
   ],
   "source": [
    "# Verify null or empty values\n",
    "print(\"Null values?: \", df.isnull().values.any())"
   ]
  },
  {
   "cell_type": "markdown",
   "metadata": {},
   "source": [
    "## Visualize stocks historical closing values"
   ]
  },
  {
   "cell_type": "code",
   "execution_count": 4,
   "metadata": {},
   "outputs": [
    {
     "data": {
      "text/plain": [
       "<Axes: xlabel='Date'>"
      ]
     },
     "execution_count": 4,
     "metadata": {},
     "output_type": "execute_result"
    },
    {
     "data": {
      "image/png": "[encoded data removed]",
      "text/plain": [
       "<Figure size 640x480 with 1 Axes>"
      ]
     },
     "metadata": {},
     "output_type": "display_data"
    }
   ],
   "source": [
    "# Ploting closing: Adj Close or Close column\n",
    "df[close_column].plot()"
   ]
  },
  {
   "cell_type": "markdown",
   "metadata": {},
   "source": [
    "## Setting the Target Variable (expected output) and Features (input values)"
   ]
  },
  {
   "cell_type": "code",
   "execution_count": 5,
   "metadata": {},
   "outputs": [],
   "source": [
    "# Target variable is closing value\n",
    "close_target = pd.DataFrame(df[close_column])\n",
    "\n",
    "# Features includes all other data\n",
    "features_columns = ['Open', 'High', 'Low', volume_column]"
   ]
  },
  {
   "cell_type": "markdown",
   "metadata": {},
   "source": [
    "## Scaling features (norm)"
   ]
  },
  {
   "cell_type": "code",
   "execution_count": 6,
   "metadata": {},
   "outputs": [
    {
     "data": {
      "text/html": [
       "<div>\n",
       "<style scoped>\n",
       "    .dataframe tbody tr th:only-of-type {\n",
       "        vertical-align: middle;\n",
       "    }\n",
       "\n",
       "    .dataframe tbody tr th {\n",
       "        vertical-align: top;\n",
       "    }\n",
       "\n",
       "    .dataframe thead th {\n",
       "        text-align: right;\n",
       "    }\n",
       "</style>\n",
       "<table border=\"1\" class=\"dataframe\">\n",
       "  <thead>\n",
       "    <tr style=\"text-align: right;\">\n",
       "      <th></th>\n",
       "      <th>Open</th>\n",
       "      <th>High</th>\n",
       "      <th>Low</th>\n",
       "      <th>Volume</th>\n",
       "    </tr>\n",
       "    <tr>\n",
       "      <th>Date</th>\n",
       "      <th></th>\n",
       "      <th></th>\n",
       "      <th></th>\n",
       "      <th></th>\n",
       "    </tr>\n",
       "  </thead>\n",
       "  <tbody>\n",
       "    <tr>\n",
       "      <th>2015-01-12</th>\n",
       "      <td>0.023268</td>\n",
       "      <td>0.022011</td>\n",
       "      <td>0.021952</td>\n",
       "      <td>0.100324</td>\n",
       "    </tr>\n",
       "    <tr>\n",
       "      <th>2015-01-13</th>\n",
       "      <td>0.021789</td>\n",
       "      <td>0.023209</td>\n",
       "      <td>0.020960</td>\n",
       "      <td>0.172161</td>\n",
       "    </tr>\n",
       "    <tr>\n",
       "      <th>2015-01-14</th>\n",
       "      <td>0.018470</td>\n",
       "      <td>0.017803</td>\n",
       "      <td>0.019505</td>\n",
       "      <td>0.137840</td>\n",
       "    </tr>\n",
       "    <tr>\n",
       "      <th>2015-01-15</th>\n",
       "      <td>0.019324</td>\n",
       "      <td>0.018257</td>\n",
       "      <td>0.018811</td>\n",
       "      <td>0.156581</td>\n",
       "    </tr>\n",
       "    <tr>\n",
       "      <th>2015-01-16</th>\n",
       "      <td>0.016334</td>\n",
       "      <td>0.017933</td>\n",
       "      <td>0.018018</td>\n",
       "      <td>0.174787</td>\n",
       "    </tr>\n",
       "  </tbody>\n",
       "</table>\n",
       "</div>"
      ],
      "text/plain": [
       "                Open      High       Low    Volume\n",
       "Date                                              \n",
       "2015-01-12  0.023268  0.022011  0.021952  0.100324\n",
       "2015-01-13  0.021789  0.023209  0.020960  0.172161\n",
       "2015-01-14  0.018470  0.017803  0.019505  0.137840\n",
       "2015-01-15  0.019324  0.018257  0.018811  0.156581\n",
       "2015-01-16  0.016334  0.017933  0.018018  0.174787"
      ]
     },
     "execution_count": 6,
     "metadata": {},
     "output_type": "execute_result"
    }
   ],
   "source": [
    "# Scaling form 1 to 0\n",
    "scaler = MinMaxScaler(feature_range=(0, 1))\n",
    "features = scaler.fit_transform(df[features_columns])\n",
    "feature = pd.DataFrame(columns=features_columns, data=features, index=df.index)\n",
    "feature.head()"
   ]
  },
  {
   "cell_type": "markdown",
   "metadata": {},
   "source": [
    "## Creating a Training and Test sets"
   ]
  },
  {
   "cell_type": "code",
   "execution_count": 7,
   "metadata": {},
   "outputs": [],
   "source": [
    "# Splitting to datasets in 10 buckets\n",
    "timesplit = TimeSeriesSplit(n_splits=10)\n",
    "for train_index, test_index in timesplit.split(features):\n",
    "        X_train, X_test = features[:len(train_index)], features[len(train_index): (len(train_index)+len(test_index))]\n",
    "        y_train, y_test = close_target[:len(train_index)].values.ravel(), close_target[len(train_index): (len(train_index)+len(test_index))].values.ravel()"
   ]
  },
  {
   "cell_type": "code",
   "execution_count": 8,
   "metadata": {},
   "outputs": [
    {
     "data": {
      "text/plain": [
       "(1750, 4)"
      ]
     },
     "execution_count": 8,
     "metadata": {},
     "output_type": "execute_result"
    }
   ],
   "source": [
    "X_train.shape"
   ]
  },
  {
   "cell_type": "markdown",
   "metadata": {},
   "source": [
    "## Data shaping for LSTM"
   ]
  },
  {
   "cell_type": "code",
   "execution_count": 9,
   "metadata": {},
   "outputs": [],
   "source": [
    "X_train = np.array(X_train).reshape(X_train.shape[0], 1, X_train.shape[1])\n",
    "X_test = np.array(X_test).reshape(X_test.shape[0], 1, X_test.shape[1])"
   ]
  },
  {
   "cell_type": "markdown",
   "metadata": {},
   "source": [
    "## Building LSTM Model"
   ]
  },
  {
   "cell_type": "code",
   "execution_count": 10,
   "metadata": {},
   "outputs": [
    {
     "name": "stdout",
     "output_type": "stream",
     "text": [
      "WARNING:tensorflow:Layer lstm will not use cuDNN kernels since it doesn't meet the criteria. It will use a generic GPU kernel as fallback when running on GPU.\n",
      "You must install pydot (`pip install pydot`) and install graphviz (see instructions at https://graphviz.gitlab.io/download/) for plot_model/model_to_dot to work.\n"
     ]
    },
    {
     "name": "stderr",
     "output_type": "stream",
     "text": [
      "2024-10-30 15:43:23.899425: I tensorflow/core/platform/cpu_feature_guard.cc:151] This TensorFlow binary is optimized with oneAPI Deep Neural Network Library (oneDNN) to use the following CPU instructions in performance-critical operations:  AVX2 AVX512F FMA\n",
      "To enable them in other operations, rebuild TensorFlow with the appropriate compiler flags.\n",
      "2024-10-30 15:43:23.900551: I tensorflow/stream_executor/cuda/cuda_gpu_executor.cc:936] successful NUMA node read from SysFS had negative value (-1), but there must be at least one NUMA node, so returning NUMA node zero\n",
      "2024-10-30 15:43:23.901967: I tensorflow/stream_executor/cuda/cuda_gpu_executor.cc:936] successful NUMA node read from SysFS had negative value (-1), but there must be at least one NUMA node, so returning NUMA node zero\n",
      "2024-10-30 15:43:23.903165: I tensorflow/stream_executor/cuda/cuda_gpu_executor.cc:936] successful NUMA node read from SysFS had negative value (-1), but there must be at least one NUMA node, so returning NUMA node zero\n",
      "2024-10-30 15:43:23.995595: I tensorflow/stream_executor/cuda/cuda_gpu_executor.cc:936] successful NUMA node read from SysFS had negative value (-1), but there must be at least one NUMA node, so returning NUMA node zero\n",
      "2024-10-30 15:43:23.996530: I tensorflow/stream_executor/cuda/cuda_gpu_executor.cc:936] successful NUMA node read from SysFS had negative value (-1), but there must be at least one NUMA node, so returning NUMA node zero\n",
      "2024-10-30 15:43:23.997418: I tensorflow/stream_executor/cuda/cuda_gpu_executor.cc:936] successful NUMA node read from SysFS had negative value (-1), but there must be at least one NUMA node, so returning NUMA node zero\n",
      "2024-10-30 15:43:23.998293: I tensorflow/core/common_runtime/gpu/gpu_device.cc:1525] Created device /job:localhost/replica:0/task:0/device:GPU:0 with 1716 MB memory:  -> device: 0, name: NVIDIA GeForce RTX 4090, pci bus id: 0000:01:00.0, compute capability: 8.9\n"
     ]
    }
   ],
   "source": [
    "model = Sequential()\n",
    "model.add(LSTM(32, input_shape=(1, X_train.shape[2]), activation='relu', return_sequences=False))\n",
    "#model.add(LSTM(units=50, return_sequences=True, input_shape=(x_train.shape[1],1)))\n",
    "#model.add(LSTM(units=50))\n",
    "\n",
    "model.add(Dense(1))\n",
    "model.compile(loss='mean_squared_error', optimizer='adam')\n",
    "plot_model(model, show_shapes=True, show_layer_names=True)"
   ]
  },
  {
   "cell_type": "markdown",
   "metadata": {},
   "source": [
    "## Training the model"
   ]
  },
  {
   "cell_type": "code",
   "execution_count": 11,
   "metadata": {},
   "outputs": [
    {
     "name": "stdout",
     "output_type": "stream",
     "text": [
      "Epoch 1/100\n",
      "110/110 - 0s - loss: 20536.1230 - 456ms/epoch - 4ms/step\n",
      "Epoch 2/100\n"
     ]
    },
    {
     "name": "stderr",
     "output_type": "stream",
     "text": [
      "2024-10-30 15:43:24.389185: I tensorflow/stream_executor/cuda/cuda_blas.cc:1786] TensorFloat-32 will be used for the matrix multiplication. This will only be logged once.\n"
     ]
    },
    {
     "name": "stdout",
     "output_type": "stream",
     "text": [
      "110/110 - 0s - loss: 20286.5918 - 111ms/epoch - 1ms/step\n",
      "Epoch 3/100\n",
      "110/110 - 0s - loss: 19885.8809 - 111ms/epoch - 1ms/step\n",
      "Epoch 4/100\n",
      "110/110 - 0s - loss: 19264.9668 - 114ms/epoch - 1ms/step\n",
      "Epoch 5/100\n",
      "110/110 - 0s - loss: 18404.3730 - 112ms/epoch - 1ms/step\n",
      "Epoch 6/100\n",
      "110/110 - 0s - loss: 17322.4883 - 111ms/epoch - 1ms/step\n",
      "Epoch 7/100\n",
      "110/110 - 0s - loss: 16063.7031 - 113ms/epoch - 1ms/step\n",
      "Epoch 8/100\n",
      "110/110 - 0s - loss: 14683.5146 - 111ms/epoch - 1ms/step\n",
      "Epoch 9/100\n",
      "110/110 - 0s - loss: 13237.9268 - 111ms/epoch - 1ms/step\n",
      "Epoch 10/100\n",
      "110/110 - 0s - loss: 11777.8750 - 110ms/epoch - 1ms/step\n",
      "Epoch 11/100\n",
      "110/110 - 0s - loss: 10346.9131 - 110ms/epoch - 1ms/step\n",
      "Epoch 12/100\n",
      "110/110 - 0s - loss: 8980.5020 - 113ms/epoch - 1ms/step\n",
      "Epoch 13/100\n",
      "110/110 - 0s - loss: 7706.0278 - 112ms/epoch - 1ms/step\n",
      "Epoch 14/100\n",
      "110/110 - 0s - loss: 6543.1177 - 112ms/epoch - 1ms/step\n",
      "Epoch 15/100\n",
      "110/110 - 0s - loss: 5504.1167 - 112ms/epoch - 1ms/step\n",
      "Epoch 16/100\n",
      "110/110 - 0s - loss: 4594.7290 - 109ms/epoch - 992us/step\n",
      "Epoch 17/100\n",
      "110/110 - 0s - loss: 3814.7830 - 112ms/epoch - 1ms/step\n",
      "Epoch 18/100\n",
      "110/110 - 0s - loss: 3159.1235 - 111ms/epoch - 1ms/step\n",
      "Epoch 19/100\n",
      "110/110 - 0s - loss: 2618.6147 - 111ms/epoch - 1ms/step\n",
      "Epoch 20/100\n",
      "110/110 - 0s - loss: 2181.2222 - 112ms/epoch - 1ms/step\n",
      "Epoch 21/100\n",
      "110/110 - 0s - loss: 1833.0745 - 109ms/epoch - 992us/step\n",
      "Epoch 22/100\n",
      "110/110 - 0s - loss: 1559.5206 - 110ms/epoch - 997us/step\n",
      "Epoch 23/100\n",
      "110/110 - 0s - loss: 1346.0344 - 110ms/epoch - 997us/step\n",
      "Epoch 24/100\n",
      "110/110 - 0s - loss: 1179.0511 - 110ms/epoch - 998us/step\n",
      "Epoch 25/100\n",
      "110/110 - 0s - loss: 1046.5499 - 110ms/epoch - 999us/step\n",
      "Epoch 26/100\n",
      "110/110 - 0s - loss: 938.5872 - 110ms/epoch - 998us/step\n",
      "Epoch 27/100\n",
      "110/110 - 0s - loss: 847.5108 - 111ms/epoch - 1ms/step\n",
      "Epoch 28/100\n",
      "110/110 - 0s - loss: 767.6766 - 111ms/epoch - 1ms/step\n",
      "Epoch 29/100\n",
      "110/110 - 0s - loss: 695.3239 - 110ms/epoch - 1ms/step\n",
      "Epoch 30/100\n",
      "110/110 - 0s - loss: 627.9500 - 113ms/epoch - 1ms/step\n",
      "Epoch 31/100\n",
      "110/110 - 0s - loss: 564.1895 - 111ms/epoch - 1ms/step\n",
      "Epoch 32/100\n",
      "110/110 - 0s - loss: 503.4724 - 113ms/epoch - 1ms/step\n",
      "Epoch 33/100\n",
      "110/110 - 0s - loss: 445.7544 - 111ms/epoch - 1ms/step\n",
      "Epoch 34/100\n",
      "110/110 - 0s - loss: 391.2446 - 110ms/epoch - 1ms/step\n",
      "Epoch 35/100\n",
      "110/110 - 0s - loss: 340.2615 - 111ms/epoch - 1ms/step\n",
      "Epoch 36/100\n",
      "110/110 - 0s - loss: 293.1279 - 110ms/epoch - 998us/step\n",
      "Epoch 37/100\n",
      "110/110 - 0s - loss: 250.1704 - 109ms/epoch - 990us/step\n",
      "Epoch 38/100\n",
      "110/110 - 0s - loss: 211.5682 - 114ms/epoch - 1ms/step\n",
      "Epoch 39/100\n",
      "110/110 - 0s - loss: 177.4412 - 112ms/epoch - 1ms/step\n",
      "Epoch 40/100\n",
      "110/110 - 0s - loss: 147.7399 - 114ms/epoch - 1ms/step\n",
      "Epoch 41/100\n",
      "110/110 - 0s - loss: 122.3197 - 114ms/epoch - 1ms/step\n",
      "Epoch 42/100\n",
      "110/110 - 0s - loss: 100.9277 - 112ms/epoch - 1ms/step\n",
      "Epoch 43/100\n",
      "110/110 - 0s - loss: 83.2593 - 109ms/epoch - 991us/step\n",
      "Epoch 44/100\n",
      "110/110 - 0s - loss: 68.9223 - 111ms/epoch - 1ms/step\n",
      "Epoch 45/100\n",
      "110/110 - 0s - loss: 57.5016 - 111ms/epoch - 1ms/step\n",
      "Epoch 46/100\n",
      "110/110 - 0s - loss: 48.5676 - 113ms/epoch - 1ms/step\n",
      "Epoch 47/100\n",
      "110/110 - 0s - loss: 41.6823 - 111ms/epoch - 1ms/step\n",
      "Epoch 48/100\n",
      "110/110 - 0s - loss: 36.4466 - 109ms/epoch - 992us/step\n",
      "Epoch 49/100\n",
      "110/110 - 0s - loss: 32.5130 - 109ms/epoch - 989us/step\n",
      "Epoch 50/100\n",
      "110/110 - 0s - loss: 29.5522 - 112ms/epoch - 1ms/step\n",
      "Epoch 51/100\n",
      "110/110 - 0s - loss: 27.3079 - 111ms/epoch - 1ms/step\n",
      "Epoch 52/100\n",
      "110/110 - 0s - loss: 25.5615 - 109ms/epoch - 992us/step\n",
      "Epoch 53/100\n",
      "110/110 - 0s - loss: 24.1573 - 110ms/epoch - 1ms/step\n",
      "Epoch 54/100\n",
      "110/110 - 0s - loss: 22.9878 - 110ms/epoch - 999us/step\n",
      "Epoch 55/100\n",
      "110/110 - 0s - loss: 21.9814 - 108ms/epoch - 985us/step\n",
      "Epoch 56/100\n",
      "110/110 - 0s - loss: 21.0757 - 109ms/epoch - 994us/step\n",
      "Epoch 57/100\n",
      "110/110 - 0s - loss: 20.2393 - 111ms/epoch - 1ms/step\n",
      "Epoch 58/100\n",
      "110/110 - 0s - loss: 19.4460 - 109ms/epoch - 995us/step\n",
      "Epoch 59/100\n",
      "110/110 - 0s - loss: 18.6829 - 108ms/epoch - 980us/step\n",
      "Epoch 60/100\n",
      "110/110 - 0s - loss: 17.9396 - 109ms/epoch - 994us/step\n",
      "Epoch 61/100\n",
      "110/110 - 0s - loss: 17.2169 - 110ms/epoch - 999us/step\n",
      "Epoch 62/100\n",
      "110/110 - 0s - loss: 16.5124 - 112ms/epoch - 1ms/step\n",
      "Epoch 63/100\n",
      "110/110 - 0s - loss: 15.8267 - 111ms/epoch - 1ms/step\n",
      "Epoch 64/100\n",
      "110/110 - 0s - loss: 15.1637 - 111ms/epoch - 1ms/step\n",
      "Epoch 65/100\n",
      "110/110 - 0s - loss: 14.5242 - 111ms/epoch - 1ms/step\n",
      "Epoch 66/100\n",
      "110/110 - 0s - loss: 13.9073 - 111ms/epoch - 1ms/step\n",
      "Epoch 67/100\n",
      "110/110 - 0s - loss: 13.3141 - 112ms/epoch - 1ms/step\n",
      "Epoch 68/100\n",
      "110/110 - 0s - loss: 12.7463 - 111ms/epoch - 1ms/step\n",
      "Epoch 69/100\n",
      "110/110 - 0s - loss: 12.2053 - 110ms/epoch - 1000us/step\n",
      "Epoch 70/100\n",
      "110/110 - 0s - loss: 11.6915 - 109ms/epoch - 990us/step\n",
      "Epoch 71/100\n",
      "110/110 - 0s - loss: 11.2053 - 109ms/epoch - 995us/step\n",
      "Epoch 72/100\n",
      "110/110 - 0s - loss: 10.7473 - 109ms/epoch - 991us/step\n",
      "Epoch 73/100\n",
      "110/110 - 0s - loss: 10.3176 - 110ms/epoch - 1ms/step\n",
      "Epoch 74/100\n",
      "110/110 - 0s - loss: 9.9166 - 109ms/epoch - 988us/step\n",
      "Epoch 75/100\n",
      "110/110 - 0s - loss: 9.5438 - 108ms/epoch - 981us/step\n",
      "Epoch 76/100\n",
      "110/110 - 0s - loss: 9.1986 - 108ms/epoch - 986us/step\n",
      "Epoch 77/100\n",
      "110/110 - 0s - loss: 8.8810 - 109ms/epoch - 989us/step\n",
      "Epoch 78/100\n",
      "110/110 - 0s - loss: 8.5907 - 109ms/epoch - 994us/step\n",
      "Epoch 79/100\n",
      "110/110 - 0s - loss: 8.3265 - 109ms/epoch - 987us/step\n",
      "Epoch 80/100\n",
      "110/110 - 0s - loss: 8.0870 - 108ms/epoch - 979us/step\n",
      "Epoch 81/100\n",
      "110/110 - 0s - loss: 7.8711 - 108ms/epoch - 985us/step\n",
      "Epoch 82/100\n",
      "110/110 - 0s - loss: 7.6780 - 108ms/epoch - 984us/step\n",
      "Epoch 83/100\n",
      "110/110 - 0s - loss: 7.5066 - 109ms/epoch - 987us/step\n",
      "Epoch 84/100\n",
      "110/110 - 0s - loss: 7.3556 - 111ms/epoch - 1ms/step\n",
      "Epoch 85/100\n",
      "110/110 - 0s - loss: 7.2235 - 109ms/epoch - 993us/step\n",
      "Epoch 86/100\n",
      "110/110 - 0s - loss: 7.1087 - 109ms/epoch - 986us/step\n",
      "Epoch 87/100\n",
      "110/110 - 0s - loss: 7.0100 - 109ms/epoch - 989us/step\n",
      "Epoch 88/100\n",
      "110/110 - 0s - loss: 6.9260 - 109ms/epoch - 994us/step\n",
      "Epoch 89/100\n",
      "110/110 - 0s - loss: 6.8554 - 108ms/epoch - 979us/step\n",
      "Epoch 90/100\n",
      "110/110 - 0s - loss: 6.7970 - 109ms/epoch - 988us/step\n",
      "Epoch 91/100\n",
      "110/110 - 0s - loss: 6.7492 - 107ms/epoch - 977us/step\n",
      "Epoch 92/100\n",
      "110/110 - 0s - loss: 6.7109 - 108ms/epoch - 983us/step\n",
      "Epoch 93/100\n",
      "110/110 - 0s - loss: 6.6807 - 107ms/epoch - 975us/step\n",
      "Epoch 94/100\n",
      "110/110 - 0s - loss: 6.6575 - 108ms/epoch - 982us/step\n",
      "Epoch 95/100\n",
      "110/110 - 0s - loss: 6.6403 - 107ms/epoch - 972us/step\n",
      "Epoch 96/100\n",
      "110/110 - 0s - loss: 6.6280 - 107ms/epoch - 970us/step\n",
      "Epoch 97/100\n",
      "110/110 - 0s - loss: 6.6199 - 109ms/epoch - 987us/step\n",
      "Epoch 98/100\n",
      "110/110 - 0s - loss: 6.6150 - 108ms/epoch - 980us/step\n",
      "Epoch 99/100\n",
      "110/110 - 0s - loss: 6.6129 - 108ms/epoch - 980us/step\n",
      "Epoch 100/100\n",
      "110/110 - 0s - loss: 6.6127 - 111ms/epoch - 1ms/step\n"
     ]
    }
   ],
   "source": [
    "history = model.fit(X_train, y_train, epochs=100, batch_size=16, verbose=2, shuffle=False)"
   ]
  },
  {
   "cell_type": "markdown",
   "metadata": {},
   "source": [
    "## Inference (prediction)"
   ]
  },
  {
   "cell_type": "code",
   "execution_count": 12,
   "metadata": {},
   "outputs": [],
   "source": [
    "# Model prediction\n",
    "y_pred= model.predict(X_test)"
   ]
  },
  {
   "cell_type": "markdown",
   "metadata": {},
   "source": [
    "## Printing ground truth vs predicted value (Close value)\n",
    "We print some days in the past and predicted value together with expected value"
   ]
  },
  {
   "cell_type": "code",
   "execution_count": 13,
   "metadata": {},
   "outputs": [
    {
     "name": "stderr",
     "output_type": "stream",
     "text": [
      "/tmp/ipykernel_112436/493990450.py:6: SettingWithCopyWarning: \n",
      "A value is trying to be set on a copy of a slice from a DataFrame.\n",
      "Try using .loc[row_indexer,col_indexer] = value instead\n",
      "\n",
      "See the caveats in the documentation: https://pandas.pydata.org/pandas-docs/stable/user_guide/indexing.html#returning-a-view-versus-a-copy\n",
      "  test['Prediction'] = y_pred\n"
     ]
    },
    {
     "data": {
      "image/png": "[encoded data removed]",
      "text/plain": [
       "<Figure size 640x480 with 1 Axes>"
      ]
     },
     "metadata": {},
     "output_type": "display_data"
    }
   ],
   "source": [
    "# Print some past(past) closing values to present (today). Then print target/predicted values\n",
    "past = int(len(train_index)-len(train_index)/10)\n",
    "today = len(train_index)\n",
    "train = close_target[past:today]\n",
    "test = close_target[today:]\n",
    "test['Prediction'] = y_pred\n",
    "plt.plot(train[close_column], label='Past')\n",
    "plt.plot(test[[close_column, 'Prediction']], label=['Predicted', 'Future'])\n",
    "plt.title(\"Prediction\")\n",
    "plt.xlabel('Date')\n",
    "plt.ylabel('USD')\n",
    "plt.legend()\n",
    "plt.show()\n",
    "\n"
   ]
  }
 ],
 "metadata": {
  "kernelspec": {
   "display_name": "stocks",
   "language": "python",
   "name": "python3"
  },
  "language_info": {
   "codemirror_mode": {
    "name": "ipython",
    "version": 3
   },
   "file_extension": ".py",
   "mimetype": "text/x-python",
   "name": "python",
   "nbconvert_exporter": "python",
   "pygments_lexer": "ipython3",
   "version": "3.10.15"
  }
 },
 "nbformat": 4,
 "nbformat_minor": 2
}
