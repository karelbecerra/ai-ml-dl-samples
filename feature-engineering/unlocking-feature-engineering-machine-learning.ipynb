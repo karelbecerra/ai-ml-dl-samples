{
 "cells": [
  {
   "cell_type": "code",
   "execution_count": null,
   "metadata": {},
   "outputs": [],
   "source": [
    "import shap\n",
    "import pandas as pd\n",
    "from sklearn.ensemble import RandomForestClassifier\n",
    "from sklearn.datasets import load_breast_cancer\n",
    "\n",
    "# Load a sample dataset\n",
    "data = load_breast_cancer()\n",
    "X = pd.DataFrame(data.data, columns=data.feature_names)\n",
    "y = data.target\n",
    "\n",
    "X = X.apply(pd.to_numeric, errors='coerce')\n",
    "\n",
    "# Train a simple model\n",
    "model = RandomForestClassifier()\n",
    "model.fit(X, y)\n",
    "\n",
    "# Debug: Print shapes and types\n",
    "print(\"Model Input Shape:\", X.shape)\n",
    "print(\"Model Feature Names:\", X.columns)\n",
    "\n",
    "# Create a SHAP explainer with additivity check disabled\n",
    "explainer = shap.Explainer(model, X)\n",
    "shap_values = explainer(X, check_additivity=False)\n",
    "\n",
    "# Plot the SHAP summary plot\n",
    "shap.summary_plot(shap_values, X)\n"
   ]
  },
  {
   "cell_type": "code",
   "execution_count": null,
   "metadata": {},
   "outputs": [],
   "source": [
    "# Example code to compare feature distributions\n",
    "import matplotlib.pyplot as plt\n",
    "import seaborn as sns\n",
    "\n",
    "# Comparing feature distributions between train and test sets\n",
    "sns.histplot(train_data['feature_name'], color=\"blue\", kde=True, label='Train')\n",
    "sns.histplot(test_data['feature_name'], color=\"red\", kde=True, label='Test')\n",
    "plt.legend()\n",
    "plt.show()\n"
   ]
  }
 ],
 "metadata": {
  "kernelspec": {
   "display_name": "py3.10",
   "language": "python",
   "name": "python3"
  },
  "language_info": {
   "codemirror_mode": {
    "name": "ipython",
    "version": 3
   },
   "file_extension": ".py",
   "mimetype": "text/x-python",
   "name": "python",
   "nbconvert_exporter": "python",
   "pygments_lexer": "ipython3",
   "version": "3.10.12"
  }
 },
 "nbformat": 4,
 "nbformat_minor": 2
}
